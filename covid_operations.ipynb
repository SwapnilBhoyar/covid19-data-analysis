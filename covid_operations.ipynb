{
 "cells": [
  {
   "cell_type": "code",
   "execution_count": 1,
   "source": [
    "import findspark\n",
    "findspark.init()\n",
    "from pyspark.sql import SparkSession\n",
    "spark = SparkSession.builder.master(\"local\").appName('operations').getOrCreate()\n",
    "from pyspark.sql import *"
   ],
   "outputs": [
    {
     "output_type": "stream",
     "name": "stderr",
     "text": [
      "2021-10-01 10:39:20,462 WARN util.NativeCodeLoader: Unable to load native-hadoop library for your platform... using builtin-java classes where applicable\n",
      "Setting default log level to \"WARN\".\n",
      "To adjust logging level use sc.setLogLevel(newLevel). For SparkR, use setLogLevel(newLevel).\n"
     ]
    }
   ],
   "metadata": {}
  },
  {
   "cell_type": "code",
   "execution_count": 2,
   "source": [
    "import pandas as pd"
   ],
   "outputs": [],
   "metadata": {}
  },
  {
   "cell_type": "code",
   "execution_count": 3,
   "source": [
    "covdatapath=\"/sparkTemp/covid19/country_wise_latest.csv\""
   ],
   "outputs": [],
   "metadata": {}
  },
  {
   "cell_type": "code",
   "execution_count": 4,
   "source": [
    "covdf = spark.read.csv(covdatapath, header='true', inferSchema='true')"
   ],
   "outputs": [
    {
     "output_type": "stream",
     "name": "stderr",
     "text": []
    }
   ],
   "metadata": {}
  },
  {
   "cell_type": "code",
   "execution_count": 4,
   "source": [
    "covdf.show()"
   ],
   "outputs": [
    {
     "output_type": "stream",
     "name": "stdout",
     "text": [
      "+-------------------+---------+------+---------+------+---------+----------+-------------+------------------+---------------------+----------------------+-------------------+-------------+-----------------+--------------------+\n",
      "|     Country/Region|Confirmed|Deaths|Recovered|Active|New cases|New deaths|New recovered|Deaths / 100 Cases|Recovered / 100 Cases|Deaths / 100 Recovered|Confirmed last week|1 week change|1 week % increase|          WHO Region|\n",
      "+-------------------+---------+------+---------+------+---------+----------+-------------+------------------+---------------------+----------------------+-------------------+-------------+-----------------+--------------------+\n",
      "|        Afghanistan|    36263|  1269|    25198|  9796|      106|        10|           18|               3.5|                69.49|                  5.04|              35526|          737|             2.07|Eastern Mediterra...|\n",
      "|            Albania|     4880|   144|     2745|  1991|      117|         6|           63|              2.95|                56.25|                  5.25|               4171|          709|             17.0|              Europe|\n",
      "|            Algeria|    27973|  1163|    18837|  7973|      616|         8|          749|              4.16|                67.34|                  6.17|              23691|         4282|            18.07|              Africa|\n",
      "|            Andorra|      907|    52|      803|    52|       10|         0|            0|              5.73|                88.53|                  6.48|                884|           23|              2.6|              Europe|\n",
      "|             Angola|      950|    41|      242|   667|       18|         1|            0|              4.32|                25.47|                 16.94|                749|          201|            26.84|              Africa|\n",
      "|Antigua and Barbuda|       86|     3|       65|    18|        4|         0|            5|              3.49|                75.58|                  4.62|                 76|           10|            13.16|            Americas|\n",
      "|          Argentina|   167416|  3059|    72575| 91782|     4890|       120|         2057|              1.83|                43.35|                  4.21|             130774|        36642|            28.02|            Americas|\n",
      "|            Armenia|    37390|   711|    26665| 10014|       73|         6|          187|               1.9|                71.32|                  2.67|              34981|         2409|             6.89|              Europe|\n",
      "|          Australia|    15303|   167|     9311|  5825|      368|         6|          137|              1.09|                60.84|                  1.79|              12428|         2875|            23.13|     Western Pacific|\n",
      "|            Austria|    20558|   713|    18246|  1599|       86|         1|           37|              3.47|                88.75|                  3.91|              19743|          815|             4.13|              Europe|\n",
      "|         Azerbaijan|    30446|   423|    23242|  6781|      396|         6|          558|              1.39|                76.34|                  1.82|              27890|         2556|             9.16|              Europe|\n",
      "|            Bahamas|      382|    11|       91|   280|       40|         0|            0|              2.88|                23.82|                 12.09|                174|          208|           119.54|            Americas|\n",
      "|            Bahrain|    39482|   141|    36110|  3231|      351|         1|          421|              0.36|                91.46|                  0.39|              36936|         2546|             6.89|Eastern Mediterra...|\n",
      "|         Bangladesh|   226225|  2965|   125683| 97577|     2772|        37|         1801|              1.31|                55.56|                  2.36|             207453|        18772|             9.05|     South-East Asia|\n",
      "|           Barbados|      110|     7|       94|     9|        0|         0|            0|              6.36|                85.45|                  7.45|                106|            4|             3.77|            Americas|\n",
      "|            Belarus|    67251|   538|    60492|  6221|      119|         4|           67|               0.8|                89.95|                  0.89|              66213|         1038|             1.57|              Europe|\n",
      "|            Belgium|    66428|  9822|    17452| 39154|      402|         1|           14|             14.79|                26.27|                 56.28|              64094|         2334|             3.64|              Europe|\n",
      "|             Belize|       48|     2|       26|    20|        0|         0|            0|              4.17|                54.17|                  7.69|                 40|            8|             20.0|            Americas|\n",
      "|              Benin|     1770|    35|     1036|   699|        0|         0|            0|              1.98|                58.53|                  3.38|               1602|          168|            10.49|              Africa|\n",
      "|             Bhutan|       99|     0|       86|    13|        4|         0|            1|               0.0|                86.87|                   0.0|                 90|            9|             10.0|     South-East Asia|\n",
      "+-------------------+---------+------+---------+------+---------+----------+-------------+------------------+---------------------+----------------------+-------------------+-------------+-----------------+--------------------+\n",
      "only showing top 20 rows\n",
      "\n"
     ]
    }
   ],
   "metadata": {}
  },
  {
   "cell_type": "code",
   "execution_count": 5,
   "source": [
    "covdf.printSchema()"
   ],
   "outputs": [
    {
     "output_type": "stream",
     "name": "stdout",
     "text": [
      "root\n",
      " |-- Country/Region: string (nullable = true)\n",
      " |-- Confirmed: integer (nullable = true)\n",
      " |-- Deaths: integer (nullable = true)\n",
      " |-- Recovered: integer (nullable = true)\n",
      " |-- Active: integer (nullable = true)\n",
      " |-- New cases: integer (nullable = true)\n",
      " |-- New deaths: integer (nullable = true)\n",
      " |-- New recovered: integer (nullable = true)\n",
      " |-- Deaths / 100 Cases: double (nullable = true)\n",
      " |-- Recovered / 100 Cases: double (nullable = true)\n",
      " |-- Deaths / 100 Recovered: string (nullable = true)\n",
      " |-- Confirmed last week: integer (nullable = true)\n",
      " |-- 1 week change: integer (nullable = true)\n",
      " |-- 1 week % increase: double (nullable = true)\n",
      " |-- WHO Region: string (nullable = true)\n",
      "\n"
     ]
    }
   ],
   "metadata": {}
  },
  {
   "cell_type": "code",
   "execution_count": 8,
   "source": [
    "import pyspark.sql.functions as func"
   ],
   "outputs": [],
   "metadata": {}
  },
  {
   "cell_type": "code",
   "execution_count": 9,
   "source": [
    "from pyspark.sql.functions import col, floor"
   ],
   "outputs": [],
   "metadata": {}
  },
  {
   "cell_type": "code",
   "execution_count": 10,
   "source": [
    "from pyspark.sql.types import IntegerType"
   ],
   "outputs": [],
   "metadata": {}
  },
  {
   "cell_type": "code",
   "execution_count": 11,
   "source": [
    "df1=covdf.withColumn(\"col4\",floor(func.round(covdf['Deaths / 100 Cases'])).cast('int'))"
   ],
   "outputs": [],
   "metadata": {}
  },
  {
   "cell_type": "code",
   "execution_count": 75,
   "source": [
    "df1.show()"
   ],
   "outputs": [
    {
     "output_type": "stream",
     "name": "stdout",
     "text": [
      "+-------------------+---------+------+---------+------+---------+----------+-------------+------------------+---------------------+----------------------+-------------------+-------------+-----------------+--------------------+----+\n",
      "|     Country/Region|Confirmed|Deaths|Recovered|Active|New cases|New deaths|New recovered|Deaths / 100 Cases|Recovered / 100 Cases|Deaths / 100 Recovered|Confirmed last week|1 week change|1 week % increase|          WHO Region|col4|\n",
      "+-------------------+---------+------+---------+------+---------+----------+-------------+------------------+---------------------+----------------------+-------------------+-------------+-----------------+--------------------+----+\n",
      "|        Afghanistan|    36263|  1269|    25198|  9796|      106|        10|           18|               3.5|                69.49|                  5.04|              35526|          737|             2.07|Eastern Mediterra...|   4|\n",
      "|            Albania|     4880|   144|     2745|  1991|      117|         6|           63|              2.95|                56.25|                  5.25|               4171|          709|             17.0|              Europe|   3|\n",
      "|            Algeria|    27973|  1163|    18837|  7973|      616|         8|          749|              4.16|                67.34|                  6.17|              23691|         4282|            18.07|              Africa|   4|\n",
      "|            Andorra|      907|    52|      803|    52|       10|         0|            0|              5.73|                88.53|                  6.48|                884|           23|              2.6|              Europe|   6|\n",
      "|             Angola|      950|    41|      242|   667|       18|         1|            0|              4.32|                25.47|                 16.94|                749|          201|            26.84|              Africa|   4|\n",
      "|Antigua and Barbuda|       86|     3|       65|    18|        4|         0|            5|              3.49|                75.58|                  4.62|                 76|           10|            13.16|            Americas|   3|\n",
      "|          Argentina|   167416|  3059|    72575| 91782|     4890|       120|         2057|              1.83|                43.35|                  4.21|             130774|        36642|            28.02|            Americas|   2|\n",
      "|            Armenia|    37390|   711|    26665| 10014|       73|         6|          187|               1.9|                71.32|                  2.67|              34981|         2409|             6.89|              Europe|   2|\n",
      "|          Australia|    15303|   167|     9311|  5825|      368|         6|          137|              1.09|                60.84|                  1.79|              12428|         2875|            23.13|     Western Pacific|   1|\n",
      "|            Austria|    20558|   713|    18246|  1599|       86|         1|           37|              3.47|                88.75|                  3.91|              19743|          815|             4.13|              Europe|   3|\n",
      "|         Azerbaijan|    30446|   423|    23242|  6781|      396|         6|          558|              1.39|                76.34|                  1.82|              27890|         2556|             9.16|              Europe|   1|\n",
      "|            Bahamas|      382|    11|       91|   280|       40|         0|            0|              2.88|                23.82|                 12.09|                174|          208|           119.54|            Americas|   3|\n",
      "|            Bahrain|    39482|   141|    36110|  3231|      351|         1|          421|              0.36|                91.46|                  0.39|              36936|         2546|             6.89|Eastern Mediterra...|   0|\n",
      "|         Bangladesh|   226225|  2965|   125683| 97577|     2772|        37|         1801|              1.31|                55.56|                  2.36|             207453|        18772|             9.05|     South-East Asia|   1|\n",
      "|           Barbados|      110|     7|       94|     9|        0|         0|            0|              6.36|                85.45|                  7.45|                106|            4|             3.77|            Americas|   6|\n",
      "|            Belarus|    67251|   538|    60492|  6221|      119|         4|           67|               0.8|                89.95|                  0.89|              66213|         1038|             1.57|              Europe|   1|\n",
      "|            Belgium|    66428|  9822|    17452| 39154|      402|         1|           14|             14.79|                26.27|                 56.28|              64094|         2334|             3.64|              Europe|  15|\n",
      "|             Belize|       48|     2|       26|    20|        0|         0|            0|              4.17|                54.17|                  7.69|                 40|            8|             20.0|            Americas|   4|\n",
      "|              Benin|     1770|    35|     1036|   699|        0|         0|            0|              1.98|                58.53|                  3.38|               1602|          168|            10.49|              Africa|   2|\n",
      "|             Bhutan|       99|     0|       86|    13|        4|         0|            1|               0.0|                86.87|                   0.0|                 90|            9|             10.0|     South-East Asia|   0|\n",
      "+-------------------+---------+------+---------+------+---------+----------+-------------+------------------+---------------------+----------------------+-------------------+-------------+-----------------+--------------------+----+\n",
      "only showing top 20 rows\n",
      "\n"
     ]
    }
   ],
   "metadata": {}
  },
  {
   "cell_type": "code",
   "execution_count": 12,
   "source": [
    "df1=df1.sort(col(\"col4\").desc()).limit(10)"
   ],
   "outputs": [],
   "metadata": {}
  },
  {
   "cell_type": "code",
   "execution_count": 13,
   "source": [
    "df1=df1.select(\"Country/Region\",\"col4\")"
   ],
   "outputs": [],
   "metadata": {}
  },
  {
   "cell_type": "code",
   "execution_count": 9,
   "source": [
    "import matplotlib.pyplot as plt"
   ],
   "outputs": [],
   "metadata": {}
  },
  {
   "cell_type": "code",
   "execution_count": 15,
   "source": [
    "df1=df1.toPandas()"
   ],
   "outputs": [],
   "metadata": {}
  },
  {
   "cell_type": "code",
   "execution_count": 16,
   "source": [
    "x = df1['Country/Region']\n",
    "y = df1['col4']"
   ],
   "outputs": [],
   "metadata": {}
  },
  {
   "cell_type": "code",
   "execution_count": 17,
   "source": [
    "plt.barh(x,y)\n",
    "plt.title('covid deaths per 100')\n",
    "plt.ylabel('Country/Region')\n",
    "plt.xlabel('Deaths / 100 Cases')\n",
    "plt.show()"
   ],
   "outputs": [
    {
     "output_type": "display_data",
     "data": {
      "image/png": "[encoded data removed]",
      "text/plain": [
       "<Figure size 432x288 with 1 Axes>"
      ]
     },
     "metadata": {
      "needs_background": "light"
     }
    }
   ],
   "metadata": {}
  },
  {
   "cell_type": "code",
   "execution_count": null,
   "source": [
    "plt.barh(x,y)\n",
    "plt.title('covid deaths per 100')\n",
    "plt.ylabel('Country/Region')\n",
    "plt.xlabel('Deaths / 100 Cases')\n",
    "plt.show()"
   ],
   "outputs": [],
   "metadata": {}
  },
  {
   "cell_type": "code",
   "execution_count": 91,
   "source": [
    "df2=covdf.withColumn(\"col4\",floor(func.round(covdf['Recovered / 100 Cases'])).cast('int'))"
   ],
   "outputs": [],
   "metadata": {}
  },
  {
   "cell_type": "code",
   "execution_count": 92,
   "source": [
    "df2=df2.sort(col(\"col4\").desc()).limit(10)"
   ],
   "outputs": [],
   "metadata": {}
  },
  {
   "cell_type": "code",
   "execution_count": 95,
   "source": [
    "df2=df2.select(\"Country/Region\",\"col4\")"
   ],
   "outputs": [],
   "metadata": {}
  },
  {
   "cell_type": "code",
   "execution_count": 96,
   "source": [
    "df2=df2.toPandas()"
   ],
   "outputs": [],
   "metadata": {}
  },
  {
   "cell_type": "code",
   "execution_count": 97,
   "source": [
    "x = df2['Country/Region']\n",
    "y = df2['col4']"
   ],
   "outputs": [],
   "metadata": {}
  },
  {
   "cell_type": "code",
   "execution_count": 98,
   "source": [
    "plt.barh(x,y)\n",
    "plt.title('covid Recovered per 100')\n",
    "plt.ylabel('Country/Region')\n",
    "plt.xlabel('Recovered / 100 Cases')\n",
    "plt.show()"
   ],
   "outputs": [
    {
     "output_type": "display_data",
     "data": {
      "image/png": "[encoded data removed]",
      "text/plain": [
       "<Figure size 432x288 with 1 Axes>"
      ]
     },
     "metadata": {
      "needs_background": "light"
     }
    }
   ],
   "metadata": {}
  },
  {
   "cell_type": "code",
   "execution_count": 107,
   "source": [
    "df3=covdf.withColumn(\"col4\",floor(func.round(covdf['Deaths / 100 Recovered'])).cast('int'))"
   ],
   "outputs": [],
   "metadata": {}
  },
  {
   "cell_type": "code",
   "execution_count": 108,
   "source": [
    "df3=df3.sort(col(\"col4\").desc()).limit(10)"
   ],
   "outputs": [],
   "metadata": {}
  },
  {
   "cell_type": "code",
   "execution_count": 109,
   "source": [
    "df3=df3.select(\"Country/Region\",\"col4\")"
   ],
   "outputs": [],
   "metadata": {}
  },
  {
   "cell_type": "code",
   "execution_count": 110,
   "source": [
    "df3=df3.toPandas()"
   ],
   "outputs": [],
   "metadata": {}
  },
  {
   "cell_type": "code",
   "execution_count": 111,
   "source": [
    "x = df3['Country/Region']\n",
    "y = df3['col4']"
   ],
   "outputs": [],
   "metadata": {}
  },
  {
   "cell_type": "code",
   "execution_count": null,
   "source": [
    "plt.barh(x,y)\n",
    "plt.title('Deaths / 100 Recovered')\n",
    "plt.ylabel('Country/Region')\n",
    "plt.xlabel('Deaths / 100 Cases')\n",
    "plt.show()"
   ],
   "outputs": [],
   "metadata": {}
  },
  {
   "cell_type": "code",
   "execution_count": 5,
   "source": [
    "df4 = covdf.select(\"Country/Region\",\"Confirmed\",\"Deaths\",\"Recovered\").limit(10)"
   ],
   "outputs": [],
   "metadata": {}
  },
  {
   "cell_type": "code",
   "execution_count": 6,
   "source": [
    "df4=df4.toPandas()"
   ],
   "outputs": [],
   "metadata": {}
  },
  {
   "cell_type": "code",
   "execution_count": 7,
   "source": [
    "df4.to_pickle(\"dataframe.pkl\")"
   ],
   "outputs": [],
   "metadata": {}
  },
  {
   "cell_type": "code",
   "execution_count": 8,
   "source": [
    "df5 = pd.read_pickle(\"dataframe.pkl\")"
   ],
   "outputs": [],
   "metadata": {}
  },
  {
   "cell_type": "code",
   "execution_count": 9,
   "source": [
    "df5.head()"
   ],
   "outputs": [
    {
     "output_type": "execute_result",
     "data": {
      "text/html": [
       "<div>\n",
       "<style scoped>\n",
       "    .dataframe tbody tr th:only-of-type {\n",
       "        vertical-align: middle;\n",
       "    }\n",
       "\n",
       "    .dataframe tbody tr th {\n",
       "        vertical-align: top;\n",
       "    }\n",
       "\n",
       "    .dataframe thead th {\n",
       "        text-align: right;\n",
       "    }\n",
       "</style>\n",
       "<table border=\"1\" class=\"dataframe\">\n",
       "  <thead>\n",
       "    <tr style=\"text-align: right;\">\n",
       "      <th></th>\n",
       "      <th>Country/Region</th>\n",
       "      <th>Confirmed</th>\n",
       "      <th>Deaths</th>\n",
       "      <th>Recovered</th>\n",
       "    </tr>\n",
       "  </thead>\n",
       "  <tbody>\n",
       "    <tr>\n",
       "      <th>0</th>\n",
       "      <td>Afghanistan</td>\n",
       "      <td>36263</td>\n",
       "      <td>1269</td>\n",
       "      <td>25198</td>\n",
       "    </tr>\n",
       "    <tr>\n",
       "      <th>1</th>\n",
       "      <td>Albania</td>\n",
       "      <td>4880</td>\n",
       "      <td>144</td>\n",
       "      <td>2745</td>\n",
       "    </tr>\n",
       "    <tr>\n",
       "      <th>2</th>\n",
       "      <td>Algeria</td>\n",
       "      <td>27973</td>\n",
       "      <td>1163</td>\n",
       "      <td>18837</td>\n",
       "    </tr>\n",
       "    <tr>\n",
       "      <th>3</th>\n",
       "      <td>Andorra</td>\n",
       "      <td>907</td>\n",
       "      <td>52</td>\n",
       "      <td>803</td>\n",
       "    </tr>\n",
       "    <tr>\n",
       "      <th>4</th>\n",
       "      <td>Angola</td>\n",
       "      <td>950</td>\n",
       "      <td>41</td>\n",
       "      <td>242</td>\n",
       "    </tr>\n",
       "  </tbody>\n",
       "</table>\n",
       "</div>"
      ],
      "text/plain": [
       "  Country/Region  Confirmed  Deaths  Recovered\n",
       "0    Afghanistan      36263    1269      25198\n",
       "1        Albania       4880     144       2745\n",
       "2        Algeria      27973    1163      18837\n",
       "3        Andorra        907      52        803\n",
       "4         Angola        950      41        242"
      ]
     },
     "metadata": {},
     "execution_count": 9
    }
   ],
   "metadata": {}
  },
  {
   "cell_type": "code",
   "execution_count": 4,
   "source": [
    "ax = df5.set_index('Country/Region').plot.bar(stacked=True)"
   ],
   "outputs": [
    {
     "output_type": "display_data",
     "data": {
      "image/png": "[encoded data removed]",
      "text/plain": [
       "<Figure size 432x288 with 1 Axes>"
      ]
     },
     "metadata": {
      "needs_background": "light"
     }
    }
   ],
   "metadata": {}
  },
  {
   "cell_type": "code",
   "execution_count": 5,
   "source": [
    "import seaborn as sns"
   ],
   "outputs": [],
   "metadata": {}
  },
  {
   "cell_type": "code",
   "execution_count": 12,
   "source": [
    "sns.set()\n",
    "df5.set_index('Country/Region').plot(kind='bar', stacked=True)"
   ],
   "outputs": [
    {
     "output_type": "execute_result",
     "data": {
      "text/plain": [
       "<AxesSubplot:xlabel='Country/Region'>"
      ]
     },
     "metadata": {},
     "execution_count": 12
    },
    {
     "output_type": "display_data",
     "data": {
      "image/png": "[encoded data removed]",
      "text/plain": [
       "<Figure size 432x288 with 1 Axes>"
      ]
     },
     "metadata": {}
    }
   ],
   "metadata": {}
  },
  {
   "cell_type": "code",
   "execution_count": 24,
   "source": [
    "df6 = covdf.select(\"Country/Region\",\"New cases\",\"New deaths\",\"New recovered\").limit(10)"
   ],
   "outputs": [],
   "metadata": {}
  },
  {
   "cell_type": "code",
   "execution_count": 25,
   "source": [
    "df6=df6.toPandas()"
   ],
   "outputs": [],
   "metadata": {}
  },
  {
   "cell_type": "code",
   "execution_count": 26,
   "source": [
    "df6.set_index('Country/Region').plot.bar(stacked=True)"
   ],
   "outputs": [
    {
     "output_type": "execute_result",
     "data": {
      "text/plain": [
       "<AxesSubplot:xlabel='Country/Region'>"
      ]
     },
     "metadata": {},
     "execution_count": 26
    },
    {
     "output_type": "display_data",
     "data": {
      "image/png": "[encoded data removed]",
      "text/plain": [
       "<Figure size 432x288 with 1 Axes>"
      ]
     },
     "metadata": {}
    }
   ],
   "metadata": {}
  }
 ],
 "metadata": {
  "orig_nbformat": 4,
  "language_info": {
   "name": "python",
   "version": "3.8.10",
   "mimetype": "text/x-python",
   "codemirror_mode": {
    "name": "ipython",
    "version": 3
   },
   "pygments_lexer": "ipython3",
   "nbconvert_exporter": "python",
   "file_extension": ".py"
  },
  "kernelspec": {
   "name": "python3",
   "display_name": "Python 3.8.10 64-bit"
  },
  "interpreter": {
   "hash": "31f2aee4e71d21fbe5cf8b01ff0e069b9275f58929596ceb00d14d90e3e16cd6"
  }
 },
 "nbformat": 4,
 "nbformat_minor": 2
}